{
 "cells": [
  {
   "cell_type": "markdown",
   "metadata": {},
   "source": [
    "# Description"
   ]
  },
  {
   "cell_type": "markdown",
   "metadata": {},
   "source": [
    "Analyze the clickstream data to identify the most common user journeys leading to TripAdvisor. \n",
    "\n",
    "What patterns or sequences of sites or pages do users typically navigate through before reaching TripAdvisor? \n",
    "Are there specific categories, themes, or domains that are common in these preTripAdvisor sessions? \n",
    "\n",
    "Interpret your findings (visualization and statistical analysis is optional, but it will increase your valuation as a candidate)."
   ]
  },
  {
   "cell_type": "markdown",
   "metadata": {},
   "source": [
    "# Imports Libraries"
   ]
  },
  {
   "cell_type": "code",
   "execution_count": 5,
   "metadata": {},
   "outputs": [
    {
     "ename": "ModuleNotFoundError",
     "evalue": "No module named 'tldextract'",
     "output_type": "error",
     "traceback": [
      "\u001b[1;31m---------------------------------------------------------------------------\u001b[0m",
      "\u001b[1;31mModuleNotFoundError\u001b[0m                       Traceback (most recent call last)",
      "\u001b[1;32m~\\AppData\\Local\\Temp\\ipykernel_25096\\1623070998.py\u001b[0m in \u001b[0;36m<module>\u001b[1;34m\u001b[0m\n\u001b[0;32m      1\u001b[0m \u001b[1;32mimport\u001b[0m \u001b[0mpandas\u001b[0m \u001b[1;32mas\u001b[0m \u001b[0mpd\u001b[0m\u001b[1;33m\u001b[0m\u001b[1;33m\u001b[0m\u001b[0m\n\u001b[0;32m      2\u001b[0m \u001b[1;33m\u001b[0m\u001b[0m\n\u001b[1;32m----> 3\u001b[1;33m \u001b[1;32mimport\u001b[0m \u001b[0mtldextract\u001b[0m\u001b[1;33m\u001b[0m\u001b[1;33m\u001b[0m\u001b[0m\n\u001b[0m\u001b[0;32m      4\u001b[0m \u001b[1;33m\u001b[0m\u001b[0m\n\u001b[0;32m      5\u001b[0m \u001b[1;32mimport\u001b[0m \u001b[0mplotly\u001b[0m\u001b[1;33m.\u001b[0m\u001b[0mexpress\u001b[0m \u001b[1;32mas\u001b[0m \u001b[0mpx\u001b[0m\u001b[1;33m\u001b[0m\u001b[1;33m\u001b[0m\u001b[0m\n",
      "\u001b[1;31mModuleNotFoundError\u001b[0m: No module named 'tldextract'"
     ]
    }
   ],
   "source": [
    "import pandas as pd\n",
    "\n",
    "import tldextract\n",
    "\n",
    "import plotly.express as px"
   ]
  },
  {
   "cell_type": "code",
   "execution_count": null,
   "metadata": {},
   "outputs": [],
   "source": [
    "!pip uninstall tldextract"
   ]
  },
  {
   "cell_type": "code",
   "execution_count": 12,
   "metadata": {},
   "outputs": [
    {
     "name": "stdout",
     "output_type": "stream",
     "text": [
      "Collecting git+https://github.com/john-kurkowski/tldextract.git=tldextract\n",
      "  Cloning https://github.com/john-kurkowski/tldextract.git=tldextract to c:\\users\\estavillo\\appdata\\local\\temp\\pip-req-build-ff0jjmm1\n"
     ]
    },
    {
     "name": "stderr",
     "output_type": "stream",
     "text": [
      "  Running command git clone --filter=blob:none --quiet https://github.com/john-kurkowski/tldextract.git=tldextract 'C:\\Users\\Estavillo\\AppData\\Local\\Temp\\pip-req-build-ff0jjmm1'\n",
      "  remote: Repository not found.\n",
      "  fatal: repository 'https://github.com/john-kurkowski/tldextract.git=tldextract/' not found\n",
      "  error: subprocess-exited-with-error\n",
      "  \n",
      "  git clone --filter=blob:none --quiet https://github.com/john-kurkowski/tldextract.git=tldextract 'C:\\Users\\Estavillo\\AppData\\Local\\Temp\\pip-req-build-ff0jjmm1' did not run successfully.\n",
      "  exit code: 128\n",
      "  \n",
      "  See above for output.\n",
      "  \n",
      "  note: This error originates from a subprocess, and is likely not a problem with pip.\n",
      "error: subprocess-exited-with-error\n",
      "\n",
      "git clone --filter=blob:none --quiet https://github.com/john-kurkowski/tldextract.git=tldextract 'C:\\Users\\Estavillo\\AppData\\Local\\Temp\\pip-req-build-ff0jjmm1' did not run successfully.\n",
      "exit code: 128\n",
      "\n",
      "See above for output.\n",
      "\n",
      "note: This error originates from a subprocess, and is likely not a problem with pip.\n"
     ]
    }
   ],
   "source": [
    "!pip install \"git+https://github.com/john-kurkowski/tldextract.git=tldextract\""
   ]
  },
  {
   "cell_type": "code",
   "execution_count": 11,
   "metadata": {},
   "outputs": [
    {
     "ename": "ModuleNotFoundError",
     "evalue": "No module named 'tldextract'",
     "output_type": "error",
     "traceback": [
      "\u001b[1;31m---------------------------------------------------------------------------\u001b[0m",
      "\u001b[1;31mModuleNotFoundError\u001b[0m                       Traceback (most recent call last)",
      "\u001b[1;32m~\\AppData\\Local\\Temp\\ipykernel_25096\\2702413448.py\u001b[0m in \u001b[0;36m<module>\u001b[1;34m\u001b[0m\n\u001b[1;32m----> 1\u001b[1;33m \u001b[1;32mfrom\u001b[0m \u001b[0mtldextract\u001b[0m \u001b[1;32mimport\u001b[0m \u001b[0mextract\u001b[0m\u001b[1;33m\u001b[0m\u001b[1;33m\u001b[0m\u001b[0m\n\u001b[0m",
      "\u001b[1;31mModuleNotFoundError\u001b[0m: No module named 'tldextract'"
     ]
    }
   ],
   "source": [
    "from tldextract import extract"
   ]
  },
  {
   "cell_type": "markdown",
   "metadata": {},
   "source": [
    "# Functions"
   ]
  },
  {
   "cell_type": "code",
   "execution_count": 13,
   "metadata": {},
   "outputs": [],
   "source": [
    "def order_data(data: pd.DataFrame) -> pd.DataFrame:\n",
    "    sorted_ids = dict(zip(data.userid.unique(), range(len(data.userid.unique()))))\n",
    "    data['sortedids'] = data.userid.map(sorted_ids)\n",
    "    data = data.sort_values(['sortedids', 'eventtimestamp'])\n",
    "    data.drop(columns=['sortedids'])\n",
    "    return data"
   ]
  },
  {
   "cell_type": "code",
   "execution_count": null,
   "metadata": {},
   "outputs": [],
   "source": [
    "def get_sequence(data: pd.DataFrame) -> pd.DataFrame:\n",
    "    '''Returns the sequence of url'''\n",
    "    sequence = pd.DataFrame(columns: )\n",
    "    if \n",
    "    return sequence"
   ]
  },
  {
   "cell_type": "code",
   "execution_count": null,
   "metadata": {},
   "outputs": [],
   "source": [
    "def get_clean_data(data: pd.DataFrame) -> pd.DataFrame:\n",
    "    '''Returns the data saved. If the data is not saved'''\n",
    "    cleaned_data = order_data()\n",
    "\n",
    "    cleaned_data.to_parquet('')\n",
    "    return cleaned_data"
   ]
  },
  {
   "cell_type": "code",
   "execution_count": 18,
   "metadata": {},
   "outputs": [],
   "source": [
    "def get_category(url: str) -> pd.Series:\n",
    "    if url in ['tripadvisor']:\n",
    "        return 'tripadvisor'\n",
    "    elif url in ['google', 'yahoo']:\n",
    "        return \"Search\"\n",
    "    elif url in [\"coursera\", \"kadenze\", \"fast\", \"kaggle\"]:\n",
    "        return \"Learning\"\n",
    "    elif url in [\"ycombinator\", \"medium\", \"hackernoon\"]:\n",
    "        return \"TechReads\"\n",
    "    elif url in [\"facebook\", \"twitter\", \"quora\"]:\n",
    "        return \"Social\"\n",
    "    elif url in [\"stackoverflow\", \"superuser\"]:\n",
    "        return \"Doubts\"\n",
    "    elif url in [\"mail.google\", \"slack.com\"]:\n",
    "        return \"Email\"\n",
    "    elif url in [\"flipkart\", \"amazon\", \"bigbasket\", \"myntra\"]:\n",
    "        return \"Shopping\"\n",
    "    else:\n",
    "        return \"Other\""
   ]
  },
  {
   "cell_type": "code",
   "execution_count": 13,
   "metadata": {},
   "outputs": [
    {
     "name": "stdout",
     "output_type": "stream",
     "text": [
      "Collecting urlparse4\n",
      "  Downloading urlparse4-0.1.3.tar.gz (158 kB)\n",
      "     -------------------------------------- 158.4/158.4 kB 1.9 MB/s eta 0:00:00\n",
      "  Installing build dependencies: started\n",
      "  Installing build dependencies: finished with status 'done'\n",
      "  Getting requirements to build wheel: started\n",
      "  Getting requirements to build wheel: finished with status 'error'\n"
     ]
    },
    {
     "name": "stderr",
     "output_type": "stream",
     "text": [
      "  error: subprocess-exited-with-error\n",
      "  \n",
      "  Getting requirements to build wheel did not run successfully.\n",
      "  exit code: 1\n",
      "  \n",
      "  [19 lines of output]\n",
      "  Traceback (most recent call last):\n",
      "    File \"C:\\Users\\Estavillo\\AppData\\Local\\Programs\\Python\\Python310\\lib\\site-packages\\pip\\_vendor\\pyproject_hooks\\_in_process\\_in_process.py\", line 353, in <module>\n",
      "      main()\n",
      "    File \"C:\\Users\\Estavillo\\AppData\\Local\\Programs\\Python\\Python310\\lib\\site-packages\\pip\\_vendor\\pyproject_hooks\\_in_process\\_in_process.py\", line 335, in main\n",
      "      json_out['return_val'] = hook(**hook_input['kwargs'])\n",
      "    File \"C:\\Users\\Estavillo\\AppData\\Local\\Programs\\Python\\Python310\\lib\\site-packages\\pip\\_vendor\\pyproject_hooks\\_in_process\\_in_process.py\", line 118, in get_requires_for_build_wheel\n",
      "      return hook(config_settings)\n",
      "    File \"C:\\Users\\Estavillo\\AppData\\Local\\Temp\\pip-build-env-f3h640_c\\overlay\\Lib\\site-packages\\setuptools\\build_meta.py\", line 355, in get_requires_for_build_wheel\n",
      "      return self._get_build_requires(config_settings, requirements=['wheel'])\n",
      "    File \"C:\\Users\\Estavillo\\AppData\\Local\\Temp\\pip-build-env-f3h640_c\\overlay\\Lib\\site-packages\\setuptools\\build_meta.py\", line 325, in _get_build_requires\n",
      "      self.run_setup()\n",
      "    File \"C:\\Users\\Estavillo\\AppData\\Local\\Temp\\pip-build-env-f3h640_c\\overlay\\Lib\\site-packages\\setuptools\\build_meta.py\", line 507, in run_setup\n",
      "      super(_BuildMetaLegacyBackend, self).run_setup(setup_script=setup_script)\n",
      "    File \"C:\\Users\\Estavillo\\AppData\\Local\\Temp\\pip-build-env-f3h640_c\\overlay\\Lib\\site-packages\\setuptools\\build_meta.py\", line 341, in run_setup\n",
      "      exec(code, locals())\n",
      "    File \"<string>\", line 46\n",
      "      print \"urlparse4/gurl.cpp not found and Cython failed to run to recreate it. Please install/upgrade Cython and try again.\"\n",
      "      ^^^^^^^^^^^^^^^^^^^^^^^^^^^^^^^^^^^^^^^^^^^^^^^^^^^^^^^^^^^^^^^^^^^^^^^^^^^^^^^^^^^^^^^^^^^^^^^^^^^^^^^^^^^^^^^^^^^^^^^^^^\n",
      "  SyntaxError: Missing parentheses in call to 'print'. Did you mean print(...)?\n",
      "  [end of output]\n",
      "  \n",
      "  note: This error originates from a subprocess, and is likely not a problem with pip.\n",
      "error: subprocess-exited-with-error\n",
      "\n",
      "Getting requirements to build wheel did not run successfully.\n",
      "exit code: 1\n",
      "\n",
      "See above for output.\n",
      "\n",
      "note: This error originates from a subprocess, and is likely not a problem with pip.\n"
     ]
    }
   ],
   "source": [
    "!pip install urlparse4"
   ]
  },
  {
   "cell_type": "code",
   "execution_count": 14,
   "metadata": {},
   "outputs": [
    {
     "ename": "ModuleNotFoundError",
     "evalue": "No module named 'tldextract'",
     "output_type": "error",
     "traceback": [
      "\u001b[1;31m---------------------------------------------------------------------------\u001b[0m",
      "\u001b[1;31mModuleNotFoundError\u001b[0m                       Traceback (most recent call last)",
      "\u001b[1;32m~\\AppData\\Local\\Temp\\ipykernel_32296\\2702413448.py\u001b[0m in \u001b[0;36m<module>\u001b[1;34m\u001b[0m\n\u001b[1;32m----> 1\u001b[1;33m \u001b[1;32mfrom\u001b[0m \u001b[0mtldextract\u001b[0m \u001b[1;32mimport\u001b[0m \u001b[0mextract\u001b[0m\u001b[1;33m\u001b[0m\u001b[1;33m\u001b[0m\u001b[0m\n\u001b[0m",
      "\u001b[1;31mModuleNotFoundError\u001b[0m: No module named 'tldextract'"
     ]
    }
   ],
   "source": [
    "from tldextract import extract"
   ]
  },
  {
   "cell_type": "code",
   "execution_count": 23,
   "metadata": {},
   "outputs": [
    {
     "ename": "NameError",
     "evalue": "name 'tldextract' is not defined",
     "output_type": "error",
     "traceback": [
      "\u001b[1;31m---------------------------------------------------------------------------\u001b[0m",
      "\u001b[1;31mNameError\u001b[0m                                 Traceback (most recent call last)",
      "\u001b[1;32m~\\AppData\\Local\\Temp\\ipykernel_4924\\106531219.py\u001b[0m in \u001b[0;36m<module>\u001b[1;34m\u001b[0m\n\u001b[0;32m      7\u001b[0m         \u001b[1;32mreturn\u001b[0m \u001b[1;34m\"google_search\"\u001b[0m\u001b[1;33m\u001b[0m\u001b[1;33m\u001b[0m\u001b[0m\n\u001b[0;32m      8\u001b[0m     \u001b[1;32mreturn\u001b[0m \u001b[0mdomain\u001b[0m\u001b[1;33m\u001b[0m\u001b[1;33m\u001b[0m\u001b[0m\n\u001b[1;32m----> 9\u001b[1;33m \u001b[0mdata\u001b[0m\u001b[1;33m[\u001b[0m\u001b[1;34m'domain'\u001b[0m\u001b[1;33m]\u001b[0m \u001b[1;33m=\u001b[0m \u001b[0mdata\u001b[0m\u001b[1;33m[\u001b[0m\u001b[1;34m'targeturl'\u001b[0m\u001b[1;33m]\u001b[0m\u001b[1;33m.\u001b[0m\u001b[0mapply\u001b[0m\u001b[1;33m(\u001b[0m\u001b[0mget_domain\u001b[0m\u001b[1;33m)\u001b[0m\u001b[1;33m\u001b[0m\u001b[1;33m\u001b[0m\u001b[0m\n\u001b[0m",
      "\u001b[1;32mc:\\users\\estavillo\\appdata\\local\\programs\\python\\python37\\lib\\site-packages\\pandas\\core\\series.py\u001b[0m in \u001b[0;36mapply\u001b[1;34m(self, func, convert_dtype, args, **kwargs)\u001b[0m\n\u001b[0;32m   4355\u001b[0m         \u001b[0mdtype\u001b[0m\u001b[1;33m:\u001b[0m \u001b[0mfloat64\u001b[0m\u001b[1;33m\u001b[0m\u001b[1;33m\u001b[0m\u001b[0m\n\u001b[0;32m   4356\u001b[0m         \"\"\"\n\u001b[1;32m-> 4357\u001b[1;33m         \u001b[1;32mreturn\u001b[0m \u001b[0mSeriesApply\u001b[0m\u001b[1;33m(\u001b[0m\u001b[0mself\u001b[0m\u001b[1;33m,\u001b[0m \u001b[0mfunc\u001b[0m\u001b[1;33m,\u001b[0m \u001b[0mconvert_dtype\u001b[0m\u001b[1;33m,\u001b[0m \u001b[0margs\u001b[0m\u001b[1;33m,\u001b[0m \u001b[0mkwargs\u001b[0m\u001b[1;33m)\u001b[0m\u001b[1;33m.\u001b[0m\u001b[0mapply\u001b[0m\u001b[1;33m(\u001b[0m\u001b[1;33m)\u001b[0m\u001b[1;33m\u001b[0m\u001b[1;33m\u001b[0m\u001b[0m\n\u001b[0m\u001b[0;32m   4358\u001b[0m \u001b[1;33m\u001b[0m\u001b[0m\n\u001b[0;32m   4359\u001b[0m     def _reduce(\n",
      "\u001b[1;32mc:\\users\\estavillo\\appdata\\local\\programs\\python\\python37\\lib\\site-packages\\pandas\\core\\apply.py\u001b[0m in \u001b[0;36mapply\u001b[1;34m(self)\u001b[0m\n\u001b[0;32m   1041\u001b[0m             \u001b[1;32mreturn\u001b[0m \u001b[0mself\u001b[0m\u001b[1;33m.\u001b[0m\u001b[0mapply_str\u001b[0m\u001b[1;33m(\u001b[0m\u001b[1;33m)\u001b[0m\u001b[1;33m\u001b[0m\u001b[1;33m\u001b[0m\u001b[0m\n\u001b[0;32m   1042\u001b[0m \u001b[1;33m\u001b[0m\u001b[0m\n\u001b[1;32m-> 1043\u001b[1;33m         \u001b[1;32mreturn\u001b[0m \u001b[0mself\u001b[0m\u001b[1;33m.\u001b[0m\u001b[0mapply_standard\u001b[0m\u001b[1;33m(\u001b[0m\u001b[1;33m)\u001b[0m\u001b[1;33m\u001b[0m\u001b[1;33m\u001b[0m\u001b[0m\n\u001b[0m\u001b[0;32m   1044\u001b[0m \u001b[1;33m\u001b[0m\u001b[0m\n\u001b[0;32m   1045\u001b[0m     \u001b[1;32mdef\u001b[0m \u001b[0magg\u001b[0m\u001b[1;33m(\u001b[0m\u001b[0mself\u001b[0m\u001b[1;33m)\u001b[0m\u001b[1;33m:\u001b[0m\u001b[1;33m\u001b[0m\u001b[1;33m\u001b[0m\u001b[0m\n",
      "\u001b[1;32mc:\\users\\estavillo\\appdata\\local\\programs\\python\\python37\\lib\\site-packages\\pandas\\core\\apply.py\u001b[0m in \u001b[0;36mapply_standard\u001b[1;34m(self)\u001b[0m\n\u001b[0;32m   1099\u001b[0m                     \u001b[0mvalues\u001b[0m\u001b[1;33m,\u001b[0m\u001b[1;33m\u001b[0m\u001b[1;33m\u001b[0m\u001b[0m\n\u001b[0;32m   1100\u001b[0m                     \u001b[0mf\u001b[0m\u001b[1;33m,\u001b[0m  \u001b[1;31m# type: ignore[arg-type]\u001b[0m\u001b[1;33m\u001b[0m\u001b[1;33m\u001b[0m\u001b[0m\n\u001b[1;32m-> 1101\u001b[1;33m                     \u001b[0mconvert\u001b[0m\u001b[1;33m=\u001b[0m\u001b[0mself\u001b[0m\u001b[1;33m.\u001b[0m\u001b[0mconvert_dtype\u001b[0m\u001b[1;33m,\u001b[0m\u001b[1;33m\u001b[0m\u001b[1;33m\u001b[0m\u001b[0m\n\u001b[0m\u001b[0;32m   1102\u001b[0m                 )\n\u001b[0;32m   1103\u001b[0m \u001b[1;33m\u001b[0m\u001b[0m\n",
      "\u001b[1;32mc:\\users\\estavillo\\appdata\\local\\programs\\python\\python37\\lib\\site-packages\\pandas\\_libs\\lib.pyx\u001b[0m in \u001b[0;36mpandas._libs.lib.map_infer\u001b[1;34m()\u001b[0m\n",
      "\u001b[1;32m~\\AppData\\Local\\Temp\\ipykernel_4924\\106531219.py\u001b[0m in \u001b[0;36mget_domain\u001b[1;34m(x)\u001b[0m\n\u001b[0;32m      1\u001b[0m \u001b[1;32mdef\u001b[0m \u001b[0mget_domain\u001b[0m\u001b[1;33m(\u001b[0m\u001b[0mx\u001b[0m\u001b[1;33m)\u001b[0m\u001b[1;33m:\u001b[0m\u001b[1;33m\u001b[0m\u001b[1;33m\u001b[0m\u001b[0m\n\u001b[1;32m----> 2\u001b[1;33m     \u001b[0mdomain\u001b[0m \u001b[1;33m=\u001b[0m \u001b[0mtldextract\u001b[0m\u001b[1;33m.\u001b[0m\u001b[0mextract\u001b[0m\u001b[1;33m(\u001b[0m\u001b[0mx\u001b[0m\u001b[1;33m)\u001b[0m\u001b[1;33m[\u001b[0m\u001b[1;36m1\u001b[0m\u001b[1;33m]\u001b[0m\u001b[1;33m\u001b[0m\u001b[1;33m\u001b[0m\u001b[0m\n\u001b[0m\u001b[0;32m      3\u001b[0m     \u001b[0msub_domain\u001b[0m \u001b[1;33m=\u001b[0m \u001b[0mtldextract\u001b[0m\u001b[1;33m.\u001b[0m\u001b[0mextract\u001b[0m\u001b[1;33m(\u001b[0m\u001b[0mx\u001b[0m\u001b[1;33m)\u001b[0m\u001b[1;33m[\u001b[0m\u001b[1;36m0\u001b[0m\u001b[1;33m]\u001b[0m\u001b[1;33m\u001b[0m\u001b[1;33m\u001b[0m\u001b[0m\n\u001b[0;32m      4\u001b[0m     \u001b[1;32mif\u001b[0m \u001b[0msub_domain\u001b[0m \u001b[1;33m==\u001b[0m \u001b[1;34m\"mail\"\u001b[0m\u001b[1;33m:\u001b[0m\u001b[1;33m\u001b[0m\u001b[1;33m\u001b[0m\u001b[0m\n\u001b[0;32m      5\u001b[0m         \u001b[1;32mreturn\u001b[0m \u001b[0msub_domain\u001b[0m \u001b[1;33m+\u001b[0m \u001b[1;34m\".\"\u001b[0m \u001b[1;33m+\u001b[0m \u001b[0mdomain\u001b[0m\u001b[1;33m\u001b[0m\u001b[1;33m\u001b[0m\u001b[0m\n",
      "\u001b[1;31mNameError\u001b[0m: name 'tldextract' is not defined"
     ]
    }
   ],
   "source": [
    "def get_domain(x):\n",
    "    domain = tldextract.extract(x)[1]\n",
    "    sub_domain = tldextract.extract(x)[0]\n",
    "    if sub_domain == \"mail\":\n",
    "        return sub_domain + \".\" + domain\n",
    "    if domain == \"google\" and sub_domain==\"www\":\n",
    "        return \"google_search\"\n",
    "    return domain\n",
    "data['domain'] = data['targeturl'].apply(get_domain)"
   ]
  },
  {
   "cell_type": "code",
   "execution_count": 29,
   "metadata": {},
   "outputs": [
    {
     "name": "stdout",
     "output_type": "stream",
     "text": [
      "Requirement already satisfied: tldextract in c:\\users\\estavillo\\appdata\\local\\programs\\python\\python310\\lib\\site-packages (3.5.0)\n",
      "Requirement already satisfied: idna in c:\\users\\estavillo\\appdata\\local\\programs\\python\\python310\\lib\\site-packages (from tldextract) (3.4)\n",
      "Requirement already satisfied: requests>=2.1.0 in c:\\users\\estavillo\\appdata\\local\\programs\\python\\python310\\lib\\site-packages (from tldextract) (2.31.0)\n",
      "Requirement already satisfied: requests-file>=1.4 in c:\\users\\estavillo\\appdata\\local\\programs\\python\\python310\\lib\\site-packages (from tldextract) (1.5.1)\n",
      "Requirement already satisfied: filelock>=3.0.8 in c:\\users\\estavillo\\appdata\\local\\programs\\python\\python310\\lib\\site-packages (from tldextract) (3.12.4)\n",
      "Requirement already satisfied: charset-normalizer<4,>=2 in c:\\users\\estavillo\\appdata\\local\\programs\\python\\python310\\lib\\site-packages (from requests>=2.1.0->tldextract) (3.2.0)\n",
      "Requirement already satisfied: urllib3<3,>=1.21.1 in c:\\users\\estavillo\\appdata\\local\\programs\\python\\python310\\lib\\site-packages (from requests>=2.1.0->tldextract) (2.0.3)\n",
      "Requirement already satisfied: certifi>=2017.4.17 in c:\\users\\estavillo\\appdata\\local\\programs\\python\\python310\\lib\\site-packages (from requests>=2.1.0->tldextract) (2023.5.7)\n",
      "Requirement already satisfied: six in c:\\users\\estavillo\\appdata\\local\\programs\\python\\python310\\lib\\site-packages (from requests-file>=1.4->tldextract) (1.16.0)\n"
     ]
    }
   ],
   "source": [
    "!pip install tldextract"
   ]
  },
  {
   "cell_type": "code",
   "execution_count": 30,
   "metadata": {},
   "outputs": [
    {
     "ename": "ModuleNotFoundError",
     "evalue": "No module named 'tldextract'",
     "output_type": "error",
     "traceback": [
      "\u001b[1;31m---------------------------------------------------------------------------\u001b[0m",
      "\u001b[1;31mModuleNotFoundError\u001b[0m                       Traceback (most recent call last)",
      "\u001b[1;32m~\\AppData\\Local\\Temp\\ipykernel_4924\\1125215960.py\u001b[0m in \u001b[0;36m<module>\u001b[1;34m\u001b[0m\n\u001b[1;32m----> 1\u001b[1;33m \u001b[1;32mimport\u001b[0m \u001b[0mtldextract\u001b[0m\u001b[1;33m\u001b[0m\u001b[1;33m\u001b[0m\u001b[0m\n\u001b[0m",
      "\u001b[1;31mModuleNotFoundError\u001b[0m: No module named 'tldextract'"
     ]
    }
   ],
   "source": []
  },
  {
   "cell_type": "markdown",
   "metadata": {},
   "source": [
    "# Clean And Import Data"
   ]
  },
  {
   "cell_type": "code",
   "execution_count": 4,
   "metadata": {},
   "outputs": [],
   "source": [
    "data = pd.read_parquet('data/data_0.parquet')"
   ]
  },
  {
   "cell_type": "code",
   "execution_count": 15,
   "metadata": {},
   "outputs": [],
   "source": [
    "order_data(data).to_csv('data/data_0_cleaned.csv')"
   ]
  },
  {
   "cell_type": "code",
   "execution_count": 16,
   "metadata": {},
   "outputs": [
    {
     "name": "stderr",
     "output_type": "stream",
     "text": [
      "c:\\users\\estavillo\\appdata\\local\\programs\\python\\python37\\lib\\site-packages\\IPython\\core\\interactiveshell.py:3553: DtypeWarning: Columns (4,5) have mixed types.Specify dtype option on import or set low_memory=False.\n",
      "  exec(code_obj, self.user_global_ns, self.user_ns)\n"
     ]
    }
   ],
   "source": [
    "cleaned_data = pd.read_csv('data/data_0_cleaned.csv')"
   ]
  },
  {
   "cell_type": "markdown",
   "metadata": {},
   "source": [
    "# Statistical Analysis"
   ]
  },
  {
   "cell_type": "markdown",
   "metadata": {},
   "source": [
    "## Descriptive Analysis"
   ]
  },
  {
   "cell_type": "code",
   "execution_count": 17,
   "metadata": {},
   "outputs": [
    {
     "data": {
      "text/html": [
       "<div>\n",
       "<style scoped>\n",
       "    .dataframe tbody tr th:only-of-type {\n",
       "        vertical-align: middle;\n",
       "    }\n",
       "\n",
       "    .dataframe tbody tr th {\n",
       "        vertical-align: top;\n",
       "    }\n",
       "\n",
       "    .dataframe thead th {\n",
       "        text-align: right;\n",
       "    }\n",
       "</style>\n",
       "<table border=\"1\" class=\"dataframe\">\n",
       "  <thead>\n",
       "    <tr style=\"text-align: right;\">\n",
       "      <th></th>\n",
       "      <th>Unnamed: 0</th>\n",
       "      <th>userid</th>\n",
       "      <th>eventdate</th>\n",
       "      <th>eventtimestamp</th>\n",
       "      <th>countrycode</th>\n",
       "      <th>city</th>\n",
       "      <th>postalcode</th>\n",
       "      <th>platform</th>\n",
       "      <th>referrerurl</th>\n",
       "      <th>targeturl</th>\n",
       "      <th>datasetcode</th>\n",
       "      <th>httpcode</th>\n",
       "      <th>sortedids</th>\n",
       "    </tr>\n",
       "  </thead>\n",
       "  <tbody>\n",
       "    <tr>\n",
       "      <th>0</th>\n",
       "      <td>51</td>\n",
       "      <td>0caeb7a6-1496-4ede-9483-4b685881478f</td>\n",
       "      <td>2020-11-13</td>\n",
       "      <td>1605167068</td>\n",
       "      <td>NaN</td>\n",
       "      <td>NaN</td>\n",
       "      <td>NaN</td>\n",
       "      <td>desktop</td>\n",
       "      <td>NaN</td>\n",
       "      <td>https://www.google.com/search?q=bob+neulander&amp;...</td>\n",
       "      <td>dataset45</td>\n",
       "      <td>0</td>\n",
       "      <td>0</td>\n",
       "    </tr>\n",
       "    <tr>\n",
       "      <th>1</th>\n",
       "      <td>260</td>\n",
       "      <td>0caeb7a6-1496-4ede-9483-4b685881478f</td>\n",
       "      <td>2020-11-13</td>\n",
       "      <td>1605167073</td>\n",
       "      <td>NaN</td>\n",
       "      <td>NaN</td>\n",
       "      <td>NaN</td>\n",
       "      <td>desktop</td>\n",
       "      <td>https://www.google.com/search?q=bob+neulander&amp;...</td>\n",
       "      <td>https://www.syracuse.com/crime/2020/02/robert-...</td>\n",
       "      <td>dataset45</td>\n",
       "      <td>0</td>\n",
       "      <td>0</td>\n",
       "    </tr>\n",
       "    <tr>\n",
       "      <th>2</th>\n",
       "      <td>211</td>\n",
       "      <td>0caeb7a6-1496-4ede-9483-4b685881478f</td>\n",
       "      <td>2020-11-13</td>\n",
       "      <td>1605167081</td>\n",
       "      <td>NaN</td>\n",
       "      <td>NaN</td>\n",
       "      <td>NaN</td>\n",
       "      <td>desktop</td>\n",
       "      <td>NaN</td>\n",
       "      <td>https://www.google.com/search?q=bob+neulander&amp;...</td>\n",
       "      <td>dataset45</td>\n",
       "      <td>0</td>\n",
       "      <td>0</td>\n",
       "    </tr>\n",
       "    <tr>\n",
       "      <th>3</th>\n",
       "      <td>202</td>\n",
       "      <td>0caeb7a6-1496-4ede-9483-4b685881478f</td>\n",
       "      <td>2020-11-13</td>\n",
       "      <td>1605167083</td>\n",
       "      <td>NaN</td>\n",
       "      <td>NaN</td>\n",
       "      <td>NaN</td>\n",
       "      <td>desktop</td>\n",
       "      <td>https://www.google.com/search?q=bob+neulander&amp;...</td>\n",
       "      <td>https://www.syracuse.com/crime/2020/10/with-co...</td>\n",
       "      <td>dataset45</td>\n",
       "      <td>0</td>\n",
       "      <td>0</td>\n",
       "    </tr>\n",
       "    <tr>\n",
       "      <th>4</th>\n",
       "      <td>68</td>\n",
       "      <td>0caeb7a6-1496-4ede-9483-4b685881478f</td>\n",
       "      <td>2020-11-13</td>\n",
       "      <td>1605167096</td>\n",
       "      <td>NaN</td>\n",
       "      <td>NaN</td>\n",
       "      <td>NaN</td>\n",
       "      <td>desktop</td>\n",
       "      <td>NaN</td>\n",
       "      <td>https://www.google.com/search?q=bob+neulander&amp;...</td>\n",
       "      <td>dataset45</td>\n",
       "      <td>0</td>\n",
       "      <td>0</td>\n",
       "    </tr>\n",
       "    <tr>\n",
       "      <th>...</th>\n",
       "      <td>...</td>\n",
       "      <td>...</td>\n",
       "      <td>...</td>\n",
       "      <td>...</td>\n",
       "      <td>...</td>\n",
       "      <td>...</td>\n",
       "      <td>...</td>\n",
       "      <td>...</td>\n",
       "      <td>...</td>\n",
       "      <td>...</td>\n",
       "      <td>...</td>\n",
       "      <td>...</td>\n",
       "      <td>...</td>\n",
       "    </tr>\n",
       "    <tr>\n",
       "      <th>4722775</th>\n",
       "      <td>4722769</td>\n",
       "      <td>edabe2a2-414f-4676-9c6c-7de1a387c79b</td>\n",
       "      <td>2022-07-30</td>\n",
       "      <td>1659204725</td>\n",
       "      <td>Chrome98</td>\n",
       "      <td>Oakland</td>\n",
       "      <td>NaN</td>\n",
       "      <td>desktop</td>\n",
       "      <td>NaN</td>\n",
       "      <td>https://us.search.yahoo.com/yhs/search?hspart=...</td>\n",
       "      <td>dataset46</td>\n",
       "      <td>0</td>\n",
       "      <td>502</td>\n",
       "    </tr>\n",
       "    <tr>\n",
       "      <th>4722776</th>\n",
       "      <td>4722765</td>\n",
       "      <td>edabe2a2-414f-4676-9c6c-7de1a387c79b</td>\n",
       "      <td>2022-07-30</td>\n",
       "      <td>1659204728</td>\n",
       "      <td>Chrome98</td>\n",
       "      <td>Oakland</td>\n",
       "      <td>NaN</td>\n",
       "      <td>desktop</td>\n",
       "      <td>https://us.search.yahoo.com/yhs/search?hspart=...</td>\n",
       "      <td>https://images.search.yahoo.com/yhs/search;_yl...</td>\n",
       "      <td>dataset46</td>\n",
       "      <td>0</td>\n",
       "      <td>502</td>\n",
       "    </tr>\n",
       "    <tr>\n",
       "      <th>4722777</th>\n",
       "      <td>4722746</td>\n",
       "      <td>edabe2a2-414f-4676-9c6c-7de1a387c79b</td>\n",
       "      <td>2022-07-30</td>\n",
       "      <td>1659204839</td>\n",
       "      <td>Chrome98</td>\n",
       "      <td>Oakland</td>\n",
       "      <td>NaN</td>\n",
       "      <td>desktop</td>\n",
       "      <td>https://images.search.yahoo.com/yhs/search;_yl...</td>\n",
       "      <td>https://images.search.yahoo.com/yhs/search;_yl...</td>\n",
       "      <td>dataset46</td>\n",
       "      <td>0</td>\n",
       "      <td>502</td>\n",
       "    </tr>\n",
       "    <tr>\n",
       "      <th>4722778</th>\n",
       "      <td>4722738</td>\n",
       "      <td>edabe2a2-414f-4676-9c6c-7de1a387c79b</td>\n",
       "      <td>2022-07-30</td>\n",
       "      <td>1659204935</td>\n",
       "      <td>Chrome98</td>\n",
       "      <td>Oakland</td>\n",
       "      <td>NaN</td>\n",
       "      <td>desktop</td>\n",
       "      <td>https://images.search.yahoo.com/yhs/search;_yl...</td>\n",
       "      <td>https://images.search.yahoo.com/yhs/search;_yl...</td>\n",
       "      <td>dataset46</td>\n",
       "      <td>0</td>\n",
       "      <td>502</td>\n",
       "    </tr>\n",
       "    <tr>\n",
       "      <th>4722779</th>\n",
       "      <td>4722732</td>\n",
       "      <td>edabe2a2-414f-4676-9c6c-7de1a387c79b</td>\n",
       "      <td>2022-07-30</td>\n",
       "      <td>1659205313</td>\n",
       "      <td>Chrome98</td>\n",
       "      <td>Oakland</td>\n",
       "      <td>NaN</td>\n",
       "      <td>desktop</td>\n",
       "      <td>NaN</td>\n",
       "      <td>https://us.search.yahoo.com/yhs/search?hspart=...</td>\n",
       "      <td>dataset46</td>\n",
       "      <td>0</td>\n",
       "      <td>502</td>\n",
       "    </tr>\n",
       "  </tbody>\n",
       "</table>\n",
       "<p>4722780 rows × 13 columns</p>\n",
       "</div>"
      ],
      "text/plain": [
       "         Unnamed: 0                                userid   eventdate  \\\n",
       "0                51  0caeb7a6-1496-4ede-9483-4b685881478f  2020-11-13   \n",
       "1               260  0caeb7a6-1496-4ede-9483-4b685881478f  2020-11-13   \n",
       "2               211  0caeb7a6-1496-4ede-9483-4b685881478f  2020-11-13   \n",
       "3               202  0caeb7a6-1496-4ede-9483-4b685881478f  2020-11-13   \n",
       "4                68  0caeb7a6-1496-4ede-9483-4b685881478f  2020-11-13   \n",
       "...             ...                                   ...         ...   \n",
       "4722775     4722769  edabe2a2-414f-4676-9c6c-7de1a387c79b  2022-07-30   \n",
       "4722776     4722765  edabe2a2-414f-4676-9c6c-7de1a387c79b  2022-07-30   \n",
       "4722777     4722746  edabe2a2-414f-4676-9c6c-7de1a387c79b  2022-07-30   \n",
       "4722778     4722738  edabe2a2-414f-4676-9c6c-7de1a387c79b  2022-07-30   \n",
       "4722779     4722732  edabe2a2-414f-4676-9c6c-7de1a387c79b  2022-07-30   \n",
       "\n",
       "         eventtimestamp countrycode     city  postalcode platform  \\\n",
       "0            1605167068         NaN      NaN         NaN  desktop   \n",
       "1            1605167073         NaN      NaN         NaN  desktop   \n",
       "2            1605167081         NaN      NaN         NaN  desktop   \n",
       "3            1605167083         NaN      NaN         NaN  desktop   \n",
       "4            1605167096         NaN      NaN         NaN  desktop   \n",
       "...                 ...         ...      ...         ...      ...   \n",
       "4722775      1659204725    Chrome98  Oakland         NaN  desktop   \n",
       "4722776      1659204728    Chrome98  Oakland         NaN  desktop   \n",
       "4722777      1659204839    Chrome98  Oakland         NaN  desktop   \n",
       "4722778      1659204935    Chrome98  Oakland         NaN  desktop   \n",
       "4722779      1659205313    Chrome98  Oakland         NaN  desktop   \n",
       "\n",
       "                                               referrerurl  \\\n",
       "0                                                      NaN   \n",
       "1        https://www.google.com/search?q=bob+neulander&...   \n",
       "2                                                      NaN   \n",
       "3        https://www.google.com/search?q=bob+neulander&...   \n",
       "4                                                      NaN   \n",
       "...                                                    ...   \n",
       "4722775                                                NaN   \n",
       "4722776  https://us.search.yahoo.com/yhs/search?hspart=...   \n",
       "4722777  https://images.search.yahoo.com/yhs/search;_yl...   \n",
       "4722778  https://images.search.yahoo.com/yhs/search;_yl...   \n",
       "4722779                                                NaN   \n",
       "\n",
       "                                                 targeturl datasetcode  \\\n",
       "0        https://www.google.com/search?q=bob+neulander&...   dataset45   \n",
       "1        https://www.syracuse.com/crime/2020/02/robert-...   dataset45   \n",
       "2        https://www.google.com/search?q=bob+neulander&...   dataset45   \n",
       "3        https://www.syracuse.com/crime/2020/10/with-co...   dataset45   \n",
       "4        https://www.google.com/search?q=bob+neulander&...   dataset45   \n",
       "...                                                    ...         ...   \n",
       "4722775  https://us.search.yahoo.com/yhs/search?hspart=...   dataset46   \n",
       "4722776  https://images.search.yahoo.com/yhs/search;_yl...   dataset46   \n",
       "4722777  https://images.search.yahoo.com/yhs/search;_yl...   dataset46   \n",
       "4722778  https://images.search.yahoo.com/yhs/search;_yl...   dataset46   \n",
       "4722779  https://us.search.yahoo.com/yhs/search?hspart=...   dataset46   \n",
       "\n",
       "         httpcode  sortedids  \n",
       "0               0          0  \n",
       "1               0          0  \n",
       "2               0          0  \n",
       "3               0          0  \n",
       "4               0          0  \n",
       "...           ...        ...  \n",
       "4722775         0        502  \n",
       "4722776         0        502  \n",
       "4722777         0        502  \n",
       "4722778         0        502  \n",
       "4722779         0        502  \n",
       "\n",
       "[4722780 rows x 13 columns]"
      ]
     },
     "execution_count": 17,
     "metadata": {},
     "output_type": "execute_result"
    }
   ],
   "source": [
    "cleaned_data['sequence'] = get_sequence()"
   ]
  },
  {
   "cell_type": "code",
   "execution_count": null,
   "metadata": {},
   "outputs": [],
   "source": []
  },
  {
   "cell_type": "markdown",
   "metadata": {},
   "source": [
    "# Visualization"
   ]
  },
  {
   "cell_type": "markdown",
   "metadata": {},
   "source": [
    "https://www.freecodecamp.org/news/understanding-my-browsing-pattern-using-pandas-and-seaborn-162b97e33e51/"
   ]
  },
  {
   "cell_type": "markdown",
   "metadata": {},
   "source": [
    "# Conclussions"
   ]
  },
  {
   "cell_type": "code",
   "execution_count": null,
   "metadata": {},
   "outputs": [],
   "source": []
  },
  {
   "cell_type": "code",
   "execution_count": null,
   "metadata": {},
   "outputs": [],
   "source": []
  },
  {
   "cell_type": "code",
   "execution_count": null,
   "metadata": {},
   "outputs": [],
   "source": [
    "https://www.simplilearn.com/what-is-statistical-analysis-article"
   ]
  },
  {
   "cell_type": "code",
   "execution_count": null,
   "metadata": {},
   "outputs": [],
   "source": []
  },
  {
   "cell_type": "markdown",
   "metadata": {},
   "source": [
    "# questions"
   ]
  },
  {
   "cell_type": "code",
   "execution_count": null,
   "metadata": {},
   "outputs": [],
   "source": [
    "cuanto tiempo se considera una sesion? \n",
    "si un journey no termina en trip advisor deberia ser eliminado, cierto?"
   ]
  }
 ],
 "metadata": {
  "kernelspec": {
   "display_name": "Python 3 (ipykernel)",
   "language": "python",
   "name": "python3"
  },
  "language_info": {
   "codemirror_mode": {
    "name": "ipython",
    "version": 3
   },
   "file_extension": ".py",
   "mimetype": "text/x-python",
   "name": "python",
   "nbconvert_exporter": "python",
   "pygments_lexer": "ipython3",
   "version": "3.7.8"
  }
 },
 "nbformat": 4,
 "nbformat_minor": 4
}

{
 "cells": [
  {
   "cell_type": "markdown",
   "metadata": {},
   "source": [
    "# Challenge Description"
   ]
  },
  {
   "cell_type": "markdown",
   "metadata": {},
   "source": [
    "Identify the longest journey a user\n",
    "took before reaching TripAdvisor. \\\n",
    "Provide a comprehensive analysis of this journey, explaining what it\n",
    "may reveal about the user's behavior and intentions."
   ]
  },
  {
   "cell_type": "markdown",
   "metadata": {},
   "source": [
    "# Imports"
   ]
  },
  {
   "cell_type": "code",
   "execution_count": 1,
   "metadata": {},
   "outputs": [],
   "source": [
    "import pandas as pd\n",
    "from task_1 Understanding User Journeys import get_user_journeys"
   ]
  },
  {
   "cell_type": "markdown",
   "metadata": {},
   "source": [
    "# Functions"
   ]
  },
  {
   "cell_type": "code",
   "execution_count": 3,
   "metadata": {},
   "outputs": [],
   "source": [
    "def get_longest_journey(user_journeys: pd.DataFrame) -> pd.Series:\n",
    "    trip_advisor_journeys = user_journeys.apply(ended_in_trip_advisor)# (user_journeys)\n",
    "    column = trip_advisor_journeys.count().idxmax()\n",
    "    longest_journey = trip_advisor_journeys[column]\n",
    "    return longest_journey"
   ]
  },
  {
   "cell_type": "markdown",
   "metadata": {},
   "source": [
    "# Data"
   ]
  },
  {
   "cell_type": "code",
   "execution_count": null,
   "metadata": {},
   "outputs": [],
   "source": [
    "user_journeys = pd.read_parquet('data/user_journeys.parquet')\n",
    "user_journeys"
   ]
  },
  {
   "cell_type": "code",
   "execution_count": null,
   "metadata": {},
   "outputs": [],
   "source": [
    "longest_journey = get_longest_journey(user_journeys)"
   ]
  },
  {
   "cell_type": "markdown",
   "metadata": {},
   "source": [
    "# Visualizations "
   ]
  },
  {
   "cell_type": "code",
   "execution_count": null,
   "metadata": {},
   "outputs": [],
   "source": []
  },
  {
   "cell_type": "markdown",
   "metadata": {},
   "source": [
    "# Conclusions"
   ]
  },
  {
   "cell_type": "code",
   "execution_count": null,
   "metadata": {},
   "outputs": [],
   "source": []
  },
  {
   "cell_type": "code",
   "execution_count": null,
   "metadata": {},
   "outputs": [],
   "source": [
    "# mail"
   ]
  },
  {
   "cell_type": "code",
   "execution_count": 1,
   "metadata": {},
   "outputs": [
    {
     "ename": "SyntaxError",
     "evalue": "unterminated string literal (detected at line 5) (3918026216.py, line 5)",
     "output_type": "error",
     "traceback": [
      "\u001b[1;36m  Cell \u001b[1;32mIn [1], line 5\u001b[1;36m\u001b[0m\n\u001b[1;33m    I've been working on the challenge and I would love to get some feedback before submiting the whole challenge.\u001b[0m\n\u001b[1;37m     ^\u001b[0m\n\u001b[1;31mSyntaxError\u001b[0m\u001b[1;31m:\u001b[0m unterminated string literal (detected at line 5)\n"
     ]
    }
   ],
   "source": [
    "Hello Mauro,\n",
    "\n",
    "I've been working on the challenge being mindful to improve upon last submission, I would love\n",
    "to get some feedback on the current state of the challenge.\n",
    "\n",
    "I've been focusing on improving to keep the code simpler, organizing\n",
    "better the delivery and splitting it less, presenting my solution in self-contained scripts\n",
    "\n",
    "I explored around for open data science projects to improve the presentation and invested more time with a \n",
    "clearer documentation, adding bullet list and clear formatiing.\n",
    "\n",
    "For the user journeys I opted for using 4 hours as the max time between calling them a different journey, \n",
    "I'm open for a discussion for the optimal max time.\n",
    "\n",
    "There are still something missing, just wanted to iterate before the final submission.\n",
    "here is the link: \n",
    "https://github.com/estavillo97/Data-Scientist-Challenge\n",
    "\n",
    "I really appreciate your expertise to improve my work\n",
    "Thanks in advance,\n",
    "JP Estavillo"
   ]
  }
 ],
 "metadata": {
  "kernelspec": {
   "display_name": "Python 3 (ipykernel)",
   "language": "python",
   "name": "python3"
  },
  "language_info": {
   "codemirror_mode": {
    "name": "ipython",
    "version": 3
   },
   "file_extension": ".py",
   "mimetype": "text/x-python",
   "name": "python",
   "nbconvert_exporter": "python",
   "pygments_lexer": "ipython3",
   "version": "3.10.11"
  }
 },
 "nbformat": 4,
 "nbformat_minor": 4
}

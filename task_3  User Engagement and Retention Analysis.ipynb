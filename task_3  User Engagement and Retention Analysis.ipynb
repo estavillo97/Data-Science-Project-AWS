{
 "cells": [
  {
   "cell_type": "markdown",
   "id": "8fb3c227",
   "metadata": {},
   "source": [
    "# Challenge Description"
   ]
  },
  {
   "cell_type": "markdown",
   "id": "b4d1381e",
   "metadata": {},
   "source": [
    "Analyze user engagement and retention with respect to TripAdvisor links.\n",
    "Are there particular features or pages that lead to higher engagement? \n",
    "Identify and visualize drop-off points or\n",
    "areas where users might abandon the journey to TripAdvisor."
   ]
  },
  {
   "cell_type": "markdown",
   "id": "5ac0403b",
   "metadata": {},
   "source": [
    "# Imports"
   ]
  },
  {
   "cell_type": "code",
   "execution_count": 48,
   "id": "b9252033",
   "metadata": {},
   "outputs": [],
   "source": [
    "import os\n",
    "import pandas as pd\n",
    "from collections import Counter\n",
    "\n",
    "import plotly\n",
    "import tldextract"
   ]
  },
  {
   "cell_type": "markdown",
   "id": "6bc9ad51",
   "metadata": {},
   "source": [
    "# Functions"
   ]
  },
  {
   "cell_type": "code",
   "execution_count": 58,
   "id": "00c861b7",
   "metadata": {},
   "outputs": [],
   "source": [
    "def get_retention(data: pd.DataFrame, \n",
    "                  n_file: int=0) -> pd.DataFrame:\n",
    "    '''Returns a dataframe where to see with links of tripadvisor\n",
    "    increments the engagement'''\n",
    "\n",
    "    # start variables id and current journey\n",
    "    engagement = []\n",
    "    links = []\n",
    "    \n",
    "    # check every row\n",
    "    data['targeturl'] = data['targeturl'].apply(get_clean_link)\n",
    "    \n",
    "    for idx in range(len(data.index) - 1):\n",
    "        if data.domain.iloc[idx] == 'tripadvisor':\n",
    "            if data.domain.iloc[idx + 1] == 'tripadvisor':\n",
    "                engagement.append(True)\n",
    "                links.append(data.targeturl.iloc[idx])\n",
    "            else:\n",
    "                engagement.append(False)\n",
    "                links.append(data.targeturl.iloc[idx])\n",
    "    \n",
    "    # drop empty rows and save the file\n",
    "    retention = pd.DataFrame()\n",
    "    retention['link'] = links\n",
    "    retention['engagement'] = engagement \n",
    "    retention = retention.dropna(how='all')\n",
    "    retention.to_parquet(f'data/retention.parquet')\n",
    "    \n",
    "    return retention"
   ]
  },
  {
   "cell_type": "code",
   "execution_count": 33,
   "id": "20591778",
   "metadata": {},
   "outputs": [],
   "source": [
    "def get_clean_data(file: str) -> pd.DataFrame:\n",
    "    '''Returns the data cleaned \n",
    "       It also saves the new file for future iteration'''\n",
    "    if os.path.exists(f'data/clean_{file}'):\n",
    "        return pd.read_parquet(f'data/clean_{file}')"
   ]
  },
  {
   "cell_type": "code",
   "execution_count": 68,
   "id": "45208099",
   "metadata": {},
   "outputs": [],
   "source": [
    "def get_clean_link(url: str) -> str:\n",
    "    for word in ['https//', 'www.', 'tripadvisor', '.com', '.co.uk', '/', 'https:', '#']:\n",
    "        url = url.replace(word, '')\n",
    "    return url"
   ]
  },
  {
   "cell_type": "markdown",
   "id": "a221f8f7",
   "metadata": {},
   "source": [
    "# Data Import"
   ]
  },
  {
   "cell_type": "code",
   "execution_count": 63,
   "id": "46f43eba",
   "metadata": {},
   "outputs": [],
   "source": [
    "# prepare and import all data.\n",
    "retention = pd.DataFrame()\n",
    "for n in range(48):\n",
    "    file = f'data_{n}.parquet'\n",
    "    data = get_clean_data(file)\n",
    "    new_retention = get_retention(data)\n",
    "    retention = pd.concat([retention, new_retention], axis=1)"
   ]
  },
  {
   "cell_type": "markdown",
   "id": "e740f79b",
   "metadata": {},
   "source": [
    "# Split Data"
   ]
  },
  {
   "cell_type": "code",
   "execution_count": 64,
   "id": "e1c8847e",
   "metadata": {},
   "outputs": [
    {
     "data": {
      "text/html": [
       "<div>\n",
       "<style scoped>\n",
       "    .dataframe tbody tr th:only-of-type {\n",
       "        vertical-align: middle;\n",
       "    }\n",
       "\n",
       "    .dataframe tbody tr th {\n",
       "        vertical-align: top;\n",
       "    }\n",
       "\n",
       "    .dataframe thead th {\n",
       "        text-align: right;\n",
       "    }\n",
       "</style>\n",
       "<table border=\"1\" class=\"dataframe\">\n",
       "  <thead>\n",
       "    <tr style=\"text-align: right;\">\n",
       "      <th></th>\n",
       "      <th>link</th>\n",
       "      <th>engagement</th>\n",
       "    </tr>\n",
       "  </thead>\n",
       "  <tbody>\n",
       "    <tr>\n",
       "      <th>3</th>\n",
       "      <td>.well-knownchange-password</td>\n",
       "      <td>True</td>\n",
       "    </tr>\n",
       "    <tr>\n",
       "      <th>4</th>\n",
       "      <td>settings-cp</td>\n",
       "      <td>True</td>\n",
       "    </tr>\n",
       "    <tr>\n",
       "      <th>5</th>\n",
       "      <td>forgotpassword-e__2f__settings__2d__cp</td>\n",
       "      <td>True</td>\n",
       "    </tr>\n",
       "    <tr>\n",
       "      <th>6</th>\n",
       "      <td>memberresetpassword?resetflowemail=REMOVED&amp;tt=...</td>\n",
       "      <td>True</td>\n",
       "    </tr>\n",
       "    <tr>\n",
       "      <th>7</th>\n",
       "      <td>passwordreset-a_prq.g1f342387a3bd64a16982cd93d...</td>\n",
       "      <td>True</td>\n",
       "    </tr>\n",
       "    <tr>\n",
       "      <th>...</th>\n",
       "      <td>...</td>\n",
       "      <td>...</td>\n",
       "    </tr>\n",
       "    <tr>\n",
       "      <th>4172</th>\n",
       "      <td>AttractionProductReview-g150800-d11455238-Colo...</td>\n",
       "      <td>True</td>\n",
       "    </tr>\n",
       "    <tr>\n",
       "      <th>4173</th>\n",
       "      <td>ShoppingCartConfirmation?reservationId=C8Ta-GP...</td>\n",
       "      <td>True</td>\n",
       "    </tr>\n",
       "    <tr>\n",
       "      <th>4183</th>\n",
       "      <td>Restaurants-g32640-Lodi_California.html</td>\n",
       "      <td>True</td>\n",
       "    </tr>\n",
       "    <tr>\n",
       "      <th>4184</th>\n",
       "      <td>Restaurant_Review-g32640-d4498989-Reviews-The_...</td>\n",
       "      <td>True</td>\n",
       "    </tr>\n",
       "    <tr>\n",
       "      <th>4188</th>\n",
       "      <td>Restaurant_Review-g34009-d15247715-Reviews-The...</td>\n",
       "      <td>True</td>\n",
       "    </tr>\n",
       "  </tbody>\n",
       "</table>\n",
       "<p>1831 rows × 2 columns</p>\n",
       "</div>"
      ],
      "text/plain": [
       "                                                   link  engagement\n",
       "3                            .well-knownchange-password        True\n",
       "4                                           settings-cp        True\n",
       "5                forgotpassword-e__2f__settings__2d__cp        True\n",
       "6     memberresetpassword?resetflowemail=REMOVED&tt=...        True\n",
       "7     passwordreset-a_prq.g1f342387a3bd64a16982cd93d...        True\n",
       "...                                                 ...         ...\n",
       "4172  AttractionProductReview-g150800-d11455238-Colo...        True\n",
       "4173  ShoppingCartConfirmation?reservationId=C8Ta-GP...        True\n",
       "4183            Restaurants-g32640-Lodi_California.html        True\n",
       "4184  Restaurant_Review-g32640-d4498989-Reviews-The_...        True\n",
       "4188  Restaurant_Review-g34009-d15247715-Reviews-The...        True\n",
       "\n",
       "[1831 rows x 2 columns]"
      ]
     },
     "execution_count": 64,
     "metadata": {},
     "output_type": "execute_result"
    }
   ],
   "source": [
    "higher_engagement = retention[retention['engagement'] == True]\n",
    "higher_engagement"
   ]
  },
  {
   "cell_type": "code",
   "execution_count": 75,
   "id": "f3e09b14",
   "metadata": {},
   "outputs": [],
   "source": [
    "pd.Series(higher_engagement_patterns).to_csv('data/higher_engagement.csv')\n",
    "pd.Series(drop_off_patterns).to_csv('data/drop_off.csv')"
   ]
  },
  {
   "cell_type": "code",
   "execution_count": 65,
   "id": "c1b75dbc",
   "metadata": {},
   "outputs": [
    {
     "data": {
      "text/html": [
       "<div>\n",
       "<style scoped>\n",
       "    .dataframe tbody tr th:only-of-type {\n",
       "        vertical-align: middle;\n",
       "    }\n",
       "\n",
       "    .dataframe tbody tr th {\n",
       "        vertical-align: top;\n",
       "    }\n",
       "\n",
       "    .dataframe thead th {\n",
       "        text-align: right;\n",
       "    }\n",
       "</style>\n",
       "<table border=\"1\" class=\"dataframe\">\n",
       "  <thead>\n",
       "    <tr style=\"text-align: right;\">\n",
       "      <th></th>\n",
       "      <th>link</th>\n",
       "      <th>engagement</th>\n",
       "    </tr>\n",
       "  </thead>\n",
       "  <tbody>\n",
       "    <tr>\n",
       "      <th>0</th>\n",
       "      <td>restaurant_review-g12909146-d4444636-reviews-t...</td>\n",
       "      <td>False</td>\n",
       "    </tr>\n",
       "    <tr>\n",
       "      <th>1</th>\n",
       "      <td>hotel_review-g44030-d295308-reviews-hotel_ches...</td>\n",
       "      <td>False</td>\n",
       "    </tr>\n",
       "    <tr>\n",
       "      <th>2</th>\n",
       "      <td>hotel_review-g44030-d295308-reviews-hotel_ches...</td>\n",
       "      <td>False</td>\n",
       "    </tr>\n",
       "    <tr>\n",
       "      <th>9</th>\n",
       "      <td>passwordreset</td>\n",
       "      <td>False</td>\n",
       "    </tr>\n",
       "    <tr>\n",
       "      <th>10</th>\n",
       "      <td>hotels-g61000-yosemite_national_park_californi...</td>\n",
       "      <td>False</td>\n",
       "    </tr>\n",
       "    <tr>\n",
       "      <th>...</th>\n",
       "      <td>...</td>\n",
       "      <td>...</td>\n",
       "    </tr>\n",
       "    <tr>\n",
       "      <th>4203</th>\n",
       "      <td>Attraction_Products-g32482-Healdsburg_Sonoma_C...</td>\n",
       "      <td>False</td>\n",
       "    </tr>\n",
       "    <tr>\n",
       "      <th>4204</th>\n",
       "      <td>ShowTopic-g187463-i183-k10542910-Do_I_need_a_c...</td>\n",
       "      <td>False</td>\n",
       "    </tr>\n",
       "    <tr>\n",
       "      <th>4205</th>\n",
       "      <td>ShowTopic-g187463-i183-k858544-Do_I_need_a_car...</td>\n",
       "      <td>False</td>\n",
       "    </tr>\n",
       "    <tr>\n",
       "      <th>4206</th>\n",
       "      <td>ShowTopic-g29221-i1825-k4398088-Is_moving_to_M...</td>\n",
       "      <td>False</td>\n",
       "    </tr>\n",
       "    <tr>\n",
       "      <th>4207</th>\n",
       "      <td>ShowTopic-g293916-i3687-k7337839-How_much_does...</td>\n",
       "      <td>False</td>\n",
       "    </tr>\n",
       "  </tbody>\n",
       "</table>\n",
       "<p>2377 rows × 2 columns</p>\n",
       "</div>"
      ],
      "text/plain": [
       "                                                   link  engagement\n",
       "0     restaurant_review-g12909146-d4444636-reviews-t...       False\n",
       "1     hotel_review-g44030-d295308-reviews-hotel_ches...       False\n",
       "2     hotel_review-g44030-d295308-reviews-hotel_ches...       False\n",
       "9                                         passwordreset       False\n",
       "10    hotels-g61000-yosemite_national_park_californi...       False\n",
       "...                                                 ...         ...\n",
       "4203  Attraction_Products-g32482-Healdsburg_Sonoma_C...       False\n",
       "4204  ShowTopic-g187463-i183-k10542910-Do_I_need_a_c...       False\n",
       "4205  ShowTopic-g187463-i183-k858544-Do_I_need_a_car...       False\n",
       "4206  ShowTopic-g29221-i1825-k4398088-Is_moving_to_M...       False\n",
       "4207  ShowTopic-g293916-i3687-k7337839-How_much_does...       False\n",
       "\n",
       "[2377 rows x 2 columns]"
      ]
     },
     "execution_count": 65,
     "metadata": {},
     "output_type": "execute_result"
    }
   ],
   "source": [
    "drop_off = retention[retention['engagement'] == False]\n",
    "drop_off"
   ]
  },
  {
   "cell_type": "code",
   "execution_count": 70,
   "id": "04e7a4aa",
   "metadata": {},
   "outputs": [],
   "source": [
    "higher_engagement_patterns = Counter(higher_engagement.link).most_common(25)"
   ]
  },
  {
   "cell_type": "code",
   "execution_count": 71,
   "id": "21727e7a",
   "metadata": {},
   "outputs": [],
   "source": [
    "drop_off_patterns = Counter(drop_off.link).most_common(25)"
   ]
  },
  {
   "cell_type": "markdown",
   "id": "1843c589",
   "metadata": {},
   "source": [
    "# Conclusion"
   ]
  },
  {
   "cell_type": "markdown",
   "id": "cf182628",
   "metadata": {},
   "source": [
    "tripadvisor loses engagements increases and drops off deppending on the review and comments from other people in the atraction/place they are seeing, a good review increase the engagement while a bad review tends to lead to a drop off"
   ]
  }
 ],
 "metadata": {
  "kernelspec": {
   "display_name": "Python 3 (ipykernel)",
   "language": "python",
   "name": "python3"
  },
  "language_info": {
   "codemirror_mode": {
    "name": "ipython",
    "version": 3
   },
   "file_extension": ".py",
   "mimetype": "text/x-python",
   "name": "python",
   "nbconvert_exporter": "python",
   "pygments_lexer": "ipython3",
   "version": "3.10.11"
  }
 },
 "nbformat": 4,
 "nbformat_minor": 5
}
